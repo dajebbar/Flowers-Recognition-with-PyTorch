{
  "nbformat": 4,
  "nbformat_minor": 0,
  "metadata": {
    "colab": {
      "name": "Flowers Recognition with PyTorch.ipynb",
      "provenance": [],
      "collapsed_sections": [
        "PfF4YxLZkI8P"
      ],
      "authorship_tag": "ABX9TyOrbeiKNrU97t95PNmDefbi",
      "include_colab_link": true
    },
    "kernelspec": {
      "name": "python3",
      "display_name": "Python 3"
    },
    "language_info": {
      "name": "python"
    },
    "accelerator": "GPU"
  },
  "cells": [
    {
      "cell_type": "markdown",
      "metadata": {
        "id": "view-in-github",
        "colab_type": "text"
      },
      "source": [
        "<a href=\"https://colab.research.google.com/github/dajebbar/Flowers-Recognition-with-PyTorch/blob/main/Flowers_Recognition_with_PyTorch.ipynb\" target=\"_parent\"><img src=\"https://colab.research.google.com/assets/colab-badge.svg\" alt=\"Open In Colab\"/></a>"
      ]
    },
    {
      "cell_type": "markdown",
      "metadata": {
        "id": "PfF4YxLZkI8P"
      },
      "source": [
        "## Download the dataset from kaggle\n",
        "Using `opendatasets` and download the dataset [Flowers Recognition](https://www.kaggle.com/alxmamaev/flowers-recognition)"
      ]
    },
    {
      "cell_type": "code",
      "metadata": {
        "id": "U0frCF2DcbRr"
      },
      "source": [
        "!pip install opendatasets --upgrade --quiet"
      ],
      "execution_count": 1,
      "outputs": []
    },
    {
      "cell_type": "code",
      "metadata": {
        "colab": {
          "base_uri": "https://localhost:8080/"
        },
        "id": "dRLuDjU1nMuR",
        "outputId": "616e9904-9d58-4bd1-9b09-d478a5457678"
      },
      "source": [
        "import opendatasets as od\n",
        "\n",
        "url = 'https://www.kaggle.com/alxmamaev/flowers-recognition'\n",
        "\n",
        "od.download(url)"
      ],
      "execution_count": 3,
      "outputs": [
        {
          "output_type": "stream",
          "text": [
            "\r  0%|          | 0.00/450M [00:00<?, ?B/s]"
          ],
          "name": "stderr"
        },
        {
          "output_type": "stream",
          "text": [
            "Downloading flowers-recognition.zip to ./flowers-recognition\n"
          ],
          "name": "stdout"
        },
        {
          "output_type": "stream",
          "text": [
            "100%|██████████| 450M/450M [00:11<00:00, 42.6MB/s]\n"
          ],
          "name": "stderr"
        },
        {
          "output_type": "stream",
          "text": [
            "\n"
          ],
          "name": "stdout"
        }
      ]
    },
    {
      "cell_type": "markdown",
      "metadata": {
        "id": "e0L18JbZp_Kn"
      },
      "source": [
        "## Import the dataset into PyTorch\n",
        "\n",
        "Use the `ImageFolder` class from `torchvision`."
      ]
    },
    {
      "cell_type": "code",
      "metadata": {
        "colab": {
          "base_uri": "https://localhost:8080/"
        },
        "id": "I_cNO65QnyGF",
        "outputId": "8d602240-3659-402f-ac52-96942f96446c"
      },
      "source": [
        "import os\n",
        "\n",
        "data_dir = './flowers-recognition/flowers'\n",
        "\n",
        "os.listdir(data_dir)"
      ],
      "execution_count": 6,
      "outputs": [
        {
          "output_type": "execute_result",
          "data": {
            "text/plain": [
              "['sunflower', 'dandelion', 'rose', 'tulip', 'flowers', 'daisy']"
            ]
          },
          "metadata": {
            "tags": []
          },
          "execution_count": 6
        }
      ]
    },
    {
      "cell_type": "code",
      "metadata": {
        "id": "kOHj2YtyrDD9"
      },
      "source": [
        "import shutil\n",
        "\n",
        "shutil.rmtree(data_dir + '/flowers')"
      ],
      "execution_count": 7,
      "outputs": []
    },
    {
      "cell_type": "code",
      "metadata": {
        "colab": {
          "base_uri": "https://localhost:8080/"
        },
        "id": "uJ5EJ8IKsEVI",
        "outputId": "d3410817-545d-4503-d256-7b7138c8dc46"
      },
      "source": [
        "os.listdir(data_dir)"
      ],
      "execution_count": 8,
      "outputs": [
        {
          "output_type": "execute_result",
          "data": {
            "text/plain": [
              "['sunflower', 'dandelion', 'rose', 'tulip', 'daisy']"
            ]
          },
          "metadata": {
            "tags": []
          },
          "execution_count": 8
        }
      ]
    },
    {
      "cell_type": "code",
      "metadata": {
        "id": "ASQIk59asHKo"
      },
      "source": [
        ""
      ],
      "execution_count": null,
      "outputs": []
    }
  ]
}